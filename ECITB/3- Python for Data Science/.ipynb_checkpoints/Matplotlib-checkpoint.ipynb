{
 "cells": [
  {
   "cell_type": "markdown",
   "metadata": {},
   "source": [
    "# Matplotlib Tutorial & Exercises\n",
    "\n",
    "This tutorial will explore the Matplotlib package in Python."
   ]
  },
  {
   "cell_type": "markdown",
   "metadata": {},
   "source": [
    "***\n",
    "## Importing Matplotlib"
   ]
  },
  {
   "cell_type": "code",
   "execution_count": null,
   "metadata": {},
   "outputs": [],
   "source": [
    "# import matplotlib\n",
    "import matplotlib.pyplot as plt\n",
    "\n",
    "import pandas as pd"
   ]
  },
  {
   "cell_type": "markdown",
   "metadata": {},
   "source": [
    "## Read In Data"
   ]
  },
  {
   "cell_type": "code",
   "execution_count": null,
   "metadata": {},
   "outputs": [],
   "source": [
    "# import data as dataframe\n",
    "df = pd.read_csv('IOT-temp.csv')\n",
    "df.head()"
   ]
  },
  {
   "cell_type": "markdown",
   "metadata": {},
   "source": [
    "## Plotting"
   ]
  },
  {
   "cell_type": "code",
   "execution_count": null,
   "metadata": {},
   "outputs": [],
   "source": [
    "# simple line plot\n",
    "plt.plot(df.index,df['temp'],linewidth=0.5,color='red')\n",
    "plt.ylabel('Temperature')\n",
    "plt.xlabel('Index')\n",
    "plt.show()"
   ]
  },
  {
   "cell_type": "code",
   "execution_count": null,
   "metadata": {},
   "outputs": [],
   "source": [
    "# simple scatter plot\n",
    "plt.scatter(df.index,df['temp'],linewidth=0.1,marker='*',color='blue')\n",
    "plt.ylabel('Temperature')\n",
    "plt.xlabel('Index')\n",
    "plt.show()"
   ]
  },
  {
   "cell_type": "markdown",
   "metadata": {},
   "source": [
    "## Subplots"
   ]
  },
  {
   "cell_type": "code",
   "execution_count": null,
   "metadata": {},
   "outputs": [],
   "source": [
    "# create a subplot\n",
    "fig = plt.figure(figsize=(20,15))\n",
    "\n",
    "ax1 = fig.add_subplot(221)\n",
    "ax1.plot(df.index[:25000],df['temp'][:25000],color='blue')\n",
    "\n",
    "ax2 = fig.add_subplot(222)\n",
    "ax2.plot(df.index[25000:50000],df['temp'][25000:50000],color='red')\n",
    "\n",
    "ax3= fig.add_subplot(223)\n",
    "ax3.plot(df.index[50000:75000],df['temp'][50000:75000],color='green')\n",
    "\n",
    "ax4 = fig.add_subplot(224)\n",
    "ax4.plot(df.index[75000:],df['temp'][75000:],color='orange')"
   ]
  },
  {
   "cell_type": "code",
   "execution_count": null,
   "metadata": {},
   "outputs": [],
   "source": []
  }
 ],
 "metadata": {
  "kernelspec": {
   "display_name": "Python 3",
   "language": "python",
   "name": "python3"
  },
  "language_info": {
   "codemirror_mode": {
    "name": "ipython",
    "version": 3
   },
   "file_extension": ".py",
   "mimetype": "text/x-python",
   "name": "python",
   "nbconvert_exporter": "python",
   "pygments_lexer": "ipython3",
   "version": "3.7.6"
  }
 },
 "nbformat": 4,
 "nbformat_minor": 1
}
